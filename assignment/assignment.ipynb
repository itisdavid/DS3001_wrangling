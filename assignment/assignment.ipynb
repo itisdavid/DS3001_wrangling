{
  "cells": [
    {
      "cell_type": "markdown",
      "id": "13ad028b-72b7-43ed-aa78-96fd4e518040",
      "metadata": {
        "id": "13ad028b-72b7-43ed-aa78-96fd4e518040"
      },
      "source": [
        "# Assignment: Data Wrangling\n",
        "## `! git clone https://github.com/DS3001/wrangling`\n",
        "## Do Q2, and one of Q1 or Q3."
      ]
    },
    {
      "cell_type": "markdown",
      "id": "5735a4d4-8be8-433a-a351-70eb8002e632",
      "metadata": {
        "id": "5735a4d4-8be8-433a-a351-70eb8002e632"
      },
      "source": [
        "**Q1.** Open the \"tidy_data.pdf\" document in the repo, which is a paper called Tidy Data by Hadley Wickham.\n",
        "\n",
        "  1. Read the abstract. What is this paper about?\n",
        "\n",
        "  Wickham is interested in the process of data cleaning at a deeper level. For example, when exactly do we know when we're done with data cleaning? When there are no NULLs? Wickham observes rows as observations/instances, columns as attributes/variables, and tables.\n",
        "\n",
        "  2. Read the introduction. What is the \"tidy data standard\" intended to accomplish?\n",
        "\n",
        "  Tidy data standard is intended to help standardize data cleaning and make it an easier process.\n",
        "\n",
        "  3. Read the intro to section 2. What does this sentence mean: \"Like families, tidy datasets are all alike but every messy dataset is messy in its own way.\" What does this sentence mean: \"For a given dataset, it’s usually easy to figure out what are observations and what are variables, but it is surprisingly difficult to precisely define variables and observations in general.\"\n",
        "\n",
        "  \"LIke families...\" means dysfunctional and disorganized data present unique, new problems while clean data all present similar properties since they've all undergone a specific process for a specific outcome. \"For a given...\" means that it is easier for data scientists to \"assign\" variables and observations to the values in the data, however, it might not be as easy as it seems for people who haven't done it before or aren't familiar with the data.\n",
        "\n",
        "  4. Read Section 2.2. How does Wickham define values, variables, and observations?\n",
        "\n",
        "  Values make up a dataset and are numeric or categorical. Values belong to both a variable and an observation. Variables are a collection of values that measure the same attribute. Observations are a collection of values.\n",
        "\n",
        "  5. How is \"Tidy Data\" defined in section 2.3?\n",
        "\n",
        "  Tidy data is defined by a dataset where each column is a variable, each row is an observation, and a table is a type of obervational unit.\n",
        "\n",
        "  6. Read the intro to Section 3 and Section 3.1. What are the 5 most common problems with messy datasets? Why are the data in Table 4 messy? What is \"melting\" a dataset?\n",
        "\n",
        "  The five most common problems with messy data are column header naming can be values and not variable names, storing multiple variables in one column, storing variables in rows and columns, storing multiple types of observational units in the same table, storing a single observational unit in multiple tables.\n",
        "\n",
        "  The data in Table 4 is messy because the column headers looks like values for what seems to be income.\n",
        "\n",
        "  Melting a dataset is the process of converting column-value variables into rows.\n",
        "\n",
        "  7. Why, specifically, is table 11 messy but table 12 tidy and \"molten\"?\n",
        "\n",
        "  Table 11 is messy because it has day numbers, which are values, as headers. Table 12b is tidy and molten because it turns the days in table 11's header into a single column called date and converts the tmax and tmin measurements into columns. All entries are attributes and not variable names.\n",
        "\n",
        "  8. Read Section 6. What is the \"chicken-and-egg\" problem with focusing on tidy data? What does Wickham hope happens in the future with further work on the subject of data wrangling?\n",
        "  \n",
        "  The chicken-and-egg problem is if tidy data is only as useful as the tools that work with it, then tidy tools will be inextricably linked to tidy data. Wickham hopes that the concept of tidy data isn't just to learn how to use ggplot2 but to create an ecosystem of ideas and tools for data science."
      ]
    },
    {
      "cell_type": "markdown",
      "id": "da879ea7-8aac-48a3-b6c2-daea56d2e072",
      "metadata": {
        "id": "da879ea7-8aac-48a3-b6c2-daea56d2e072"
      },
      "source": [
        "**Q2.** This question provides some practice cleaning variables which have common problems.\n",
        "1. Numeric variable: For `./data/airbnb_hw.csv`, clean the `Price` variable as well as you can, and explain the choices you make. How many missing values do you end up with? (Hint: What happens to the formatting when a price goes over 999 dollars, say from 675 to 1,112?)\n",
        "2. Categorical variable: For the `./data/sharks.csv` data covered in the lecture, clean the \"Type\" variable as well as you can, and explain the choices you make.\n",
        "3. Dummy variable: For the pretrial data covered in the lecture, clean the `WhetherDefendantWasReleasedPretrial` variable as well as you can, and, in particular, replace missing values with `np.nan`.\n",
        "4. Missing values, not at random: For the pretrial data covered in the lecture, clean the `ImposedSentenceAllChargeInContactEvent` variable as well as you can, and explain the choices you make. (Hint: Look at the `SentenceTypeAllChargesAtConvictionInContactEvent` variable.)"
      ]
    },
    {
      "cell_type": "code",
      "source": [
        "import pandas as pd\n",
        "import numpy as np\n",
        "import seaborn as sns\n",
        "\n",
        "# Q2 Part 1\n",
        "df = pd.read_csv('airbnb_hw.csv', low_memory = False) # Read in CSV\n",
        "df.head(5) # Display first 5 rows"
      ],
      "metadata": {
        "id": "jdlUa3abxlPt"
      },
      "id": "jdlUa3abxlPt",
      "execution_count": null,
      "outputs": []
    },
    {
      "cell_type": "code",
      "source": [
        "# Q2 Part 1 Cont.\n",
        "df = pd.read_csv('airbnb_hw.csv', low_memory = False)\n",
        "\n",
        "price = df['Price']\n",
        "price = price.str.replace(',','') # get rid of comma delimiter from csv\n",
        "print(price.unique())\n",
        "price = pd.to_numeric(price, errors='coerce') # conver tto numeric from string\n",
        "print(price.unique())\n",
        "print(\"Total Missing Values: \" , sum(price.isnull())) # find number of missing values I ended up with\n"
      ],
      "metadata": {
        "id": "xATq-ft_h-Mj"
      },
      "id": "xATq-ft_h-Mj",
      "execution_count": null,
      "outputs": []
    },
    {
      "cell_type": "code",
      "source": [
        "import pandas as pd\n",
        "import numpy as np\n",
        "import seaborn as sns\n",
        "\n",
        "# Q2 Part 2\n",
        "df = pd.read_csv('sharks.csv', low_memory = False) # Read in CSV\n",
        "df['Type'].value_counts() # Display originial types\n",
        "\n",
        "type = df['Type']\n",
        "type = type.replace(['Sea Disaster', 'Boat', 'Boating', 'Boatomg', 'Watercraft'], 'Boat') # Combine any type that sounds boat/ship related into one type\n",
        "#type.value_counts()\n",
        "\n",
        "type = type.replace(['Invalid','Questionable','Unconfirmed','Unverified','Under investigation'], np.nan) # Get rid of all \"unconfirmed\" types\n",
        "type.value_counts()\n",
        "df['Type'] = type\n",
        "del type\n",
        "\n",
        "# It seems that there are more shark incidents in unprovoked incidents compared to provoked.\n"
      ],
      "metadata": {
        "id": "2C58qbxEybK-"
      },
      "id": "2C58qbxEybK-",
      "execution_count": 20,
      "outputs": []
    },
    {
      "cell_type": "code",
      "source": [
        "# Q2 Part 2 Cont.\n",
        "fatal = df['Fatal (Y/N)']\n",
        "#fatal.value_counts() # Display all Fatal values\n",
        "df['Fatal (Y/N)'] = df['Fatal (Y/N)'].replace(['UNKNOWN','F','M','2017'], np.nan) # Get rid of UNKNOWN, F, M, 2017\n",
        "df['Fatal (Y/N)'] = df['Fatal (Y/N)'].replace('y', 'Y') # Turn y into Y\n",
        "#fatal.value_counts()\n",
        "\n",
        "pd.crosstab(df['Type'], df['Fatal (Y/N)'], normalize = 'index')"
      ],
      "metadata": {
        "id": "8sPX93TpwBDB"
      },
      "id": "8sPX93TpwBDB",
      "execution_count": null,
      "outputs": []
    },
    {
      "cell_type": "code",
      "source": [
        "# Q2 Part 3\n",
        "import pandas as pd\n",
        "import numpy as np\n",
        "import seaborn as sns\n",
        "\n",
        "df = pd.read_parquet('justice_data.parquet')\n",
        "release = df['WhetherDefendantWasReleasedPretrial']\n",
        "print(release.unique(), '\\n')\n",
        "print(release.value_counts(), '\\n')\n",
        "release = release.replace(9, np.nan) # 9 = unclear so turn them into NAN\n",
        "print(release.value_counts(), '\\n')\n",
        "print(sum(release.isnull())) # check to see how many nulls there are (should be 31 since we replaced 31 values)\n",
        "df['WhetherDefendantWasReleasedPretrial'] = release\n",
        "del release"
      ],
      "metadata": {
        "id": "9tdsWNzdxtAc"
      },
      "id": "9tdsWNzdxtAc",
      "execution_count": null,
      "outputs": []
    },
    {
      "cell_type": "code",
      "source": [
        "# Q2 Part 4\n",
        "length = df['ImposedSentenceAllChargeInContactEvent']\n",
        "type = df['SentenceTypeAllChargesAtConvictionInContactEvent']\n",
        "\n",
        "#print(length.unique(), '\\n') # Found a ' ' value which means its empty, messy data\n",
        "#print(type.unique(), '\\n') # Checking just in case\n",
        "#print(length.value_counts())\n",
        "length = pd.to_numeric(length, errors='coerce')\n",
        "num_nulls = length.isnull() # variable to store how many null values there are\n",
        "print(np.sum(num_nulls), '\\n') # 9053 null/missing values\n",
        "print(pd.crosstab(num_nulls, type), '\\n') # 4 = case dismissed\n",
        "\n",
        "length = length.mask(type==4, 0) # Replace 4s with 0s\n",
        "length = length.mask(type == 9, np.nan) # 9 = unclear so convert to nan\n",
        "\n",
        "num_nulls = length.isnull()\n",
        "print(pd.crosstab(num_nulls, type), '\\n')\n",
        "print(np.sum(num_nulls), '\\n') # Only 274 values missing now\n",
        "\n",
        "df['ImposedSentenceAllChargeInContactEvent'] = length # Update df\n",
        "del length, type"
      ],
      "metadata": {
        "id": "rZlUQn6t2R68",
        "outputId": "d009f30d-3c9c-4268-b4a9-f933604796e5",
        "colab": {
          "base_uri": "https://localhost:8080/"
        }
      },
      "id": "rZlUQn6t2R68",
      "execution_count": 51,
      "outputs": [
        {
          "output_type": "stream",
          "name": "stdout",
          "text": [
            "9053 \n",
            "\n",
            "SentenceTypeAllChargesAtConvictionInContactEvent     0     1    2     4    9\n",
            "ImposedSentenceAllChargeInContactEvent                                      \n",
            "False                                             8720  4299  914     0    0\n",
            "True                                                 0     0    0  8779  274 \n",
            "\n",
            "SentenceTypeAllChargesAtConvictionInContactEvent     0     1    2     4    9\n",
            "ImposedSentenceAllChargeInContactEvent                                      \n",
            "False                                             8720  4299  914  8779    0\n",
            "True                                                 0     0    0     0  274 \n",
            "\n",
            "274 \n",
            "\n"
          ]
        }
      ]
    },
    {
      "cell_type": "markdown",
      "id": "649494cd-cfd6-4f80-992a-9994fc19e1d5",
      "metadata": {
        "id": "649494cd-cfd6-4f80-992a-9994fc19e1d5"
      },
      "source": [
        "**Q3.** Many important datasets contain a race variable, typically limited to a handful of values often including Black, White, Asian, Latino, and Indigenous. This question looks at data gathering efforts on this variable by the U.S. Federal government.\n",
        "\n",
        "1. How did the most recent US Census gather data on race?\n",
        "\n",
        "\n",
        "\n",
        "2. Why do we gather these data? What role do these kinds of data play in politics and society? Why does data quality matter?\n",
        "3. Please provide a constructive criticism of how the Census was conducted: What was done well? What do you think was missing? How should future large scale surveys be adjusted to best reflect the diversity of the population? Could some of the Census' good practices be adopted more widely to gather richer and more useful data?\n",
        "4. How did the Census gather data on sex and gender? Please provide a similar constructive criticism of their practices.\n",
        "5. When it comes to cleaning data, what concerns do you have about protected characteristics like sex, gender, sexual identity, or race? What challenges can you imagine arising when there are missing values? What good or bad practices might people adopt, and why?\n",
        "6. Suppose someone invented an algorithm to impute values for protected characteristics like race, gender, sex, or sexuality. What kinds of concerns would you have?"
      ]
    }
  ],
  "metadata": {
    "colab": {
      "provenance": []
    },
    "kernelspec": {
      "display_name": "Python 3 (ipykernel)",
      "language": "python",
      "name": "python3"
    },
    "language_info": {
      "codemirror_mode": {
        "name": "ipython",
        "version": 3
      },
      "file_extension": ".py",
      "mimetype": "text/x-python",
      "name": "python",
      "nbconvert_exporter": "python",
      "pygments_lexer": "ipython3",
      "version": "3.10.4"
    }
  },
  "nbformat": 4,
  "nbformat_minor": 5
}